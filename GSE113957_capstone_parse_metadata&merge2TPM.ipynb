{
  "nbformat": 4,
  "nbformat_minor": 0,
  "metadata": {
    "colab": {
      "provenance": [],
      "authorship_tag": "ABX9TyOamJA+UH5IiHRL4ObLv65m",
      "include_colab_link": true
    },
    "kernelspec": {
      "name": "python3",
      "display_name": "Python 3"
    },
    "language_info": {
      "name": "python"
    }
  },
  "cells": [
    {
      "cell_type": "markdown",
      "metadata": {
        "id": "view-in-github",
        "colab_type": "text"
      },
      "source": [
        "<a href=\"https://colab.research.google.com/github/KVincent007/Predicting-age-from-the-transcriptome-of-human-dermal-fibroblasts/blob/master/GSE113957_capstone_parse_metadata%26merge2TPM.ipynb\" target=\"_parent\"><img src=\"https://colab.research.google.com/assets/colab-badge.svg\" alt=\"Open In Colab\"/></a>"
      ]
    },
    {
      "cell_type": "code",
      "execution_count": null,
      "metadata": {
        "colab": {
          "base_uri": "https://localhost:8080/",
          "height": 222
        },
        "id": "zoo7CMLBnldB",
        "outputId": "e2620dc4-b17c-4c00-c6ae-5819f3de36e5"
      },
      "outputs": [
        {
          "output_type": "error",
          "ename": "FileNotFoundError",
          "evalue": "[Errno 2] No such file or directory: '/content/GSE113957_family.soft.txt'",
          "traceback": [
            "\u001b[0;31m---------------------------------------------------------------------------\u001b[0m",
            "\u001b[0;31mFileNotFoundError\u001b[0m                         Traceback (most recent call last)",
            "\u001b[0;32m/tmp/ipython-input-1-1619849691.py\u001b[0m in \u001b[0;36m<cell line: 0>\u001b[0;34m()\u001b[0m\n\u001b[1;32m      2\u001b[0m \u001b[0;34m\u001b[0m\u001b[0m\n\u001b[1;32m      3\u001b[0m \u001b[0mtitle_to_gsm\u001b[0m \u001b[0;34m=\u001b[0m \u001b[0;34m{\u001b[0m\u001b[0;34m}\u001b[0m\u001b[0;34m\u001b[0m\u001b[0;34m\u001b[0m\u001b[0m\n\u001b[0;32m----> 4\u001b[0;31m \u001b[0;32mwith\u001b[0m \u001b[0mopen\u001b[0m\u001b[0;34m(\u001b[0m\u001b[0;34m'/content/GSE113957_family.soft.txt'\u001b[0m\u001b[0;34m)\u001b[0m \u001b[0;32mas\u001b[0m \u001b[0mf\u001b[0m\u001b[0;34m:\u001b[0m\u001b[0;34m\u001b[0m\u001b[0;34m\u001b[0m\u001b[0m\n\u001b[0m\u001b[1;32m      5\u001b[0m     \u001b[0mgsm\u001b[0m \u001b[0;34m=\u001b[0m \u001b[0;32mNone\u001b[0m\u001b[0;34m\u001b[0m\u001b[0;34m\u001b[0m\u001b[0m\n\u001b[1;32m      6\u001b[0m     \u001b[0;32mfor\u001b[0m \u001b[0mline\u001b[0m \u001b[0;32min\u001b[0m \u001b[0mf\u001b[0m\u001b[0;34m:\u001b[0m\u001b[0;34m\u001b[0m\u001b[0;34m\u001b[0m\u001b[0m\n",
            "\u001b[0;31mFileNotFoundError\u001b[0m: [Errno 2] No such file or directory: '/content/GSE113957_family.soft.txt'"
          ]
        }
      ],
      "source": [
        "import pandas as pd\n",
        "\n",
        "title_to_gsm = {}\n",
        "with open('/content/GSE113957_family.soft.txt') as f:\n",
        "    gsm = None\n",
        "    for line in f:\n",
        "        line = line.strip()\n",
        "        if line.startswith(\"^SAMPLE\"):\n",
        "            gsm = line.split(\" = \", 1)[1]\n",
        "        elif line.startswith(\"!Sample_title\") and gsm:\n",
        "            title = line.split(\" = \", 1)[1].strip()\n",
        "            title_to_gsm[title] = gsm\n",
        "            gsm = None\n",
        "\n",
        "tpm = pd.read_csv(\"/content/GSE113957_norm_counts_TPM_GRCh38.p13_NCBI.csv\", index_col=0)\n",
        "\n",
        "# Replace sample titles with GSM IDs (using your title_to_gsm mapping)\n",
        "tpm.rename(columns=title_to_gsm, inplace=True)\n",
        "\n",
        "# Drop any columns that couldn't be mapped\n",
        "tpm = tpm.loc[:, tpm.columns.notna()]\n",
        "\n",
        "# Transpose: make samples rows, genes columns\n",
        "tpm = tpm.T\n",
        "tpm.index.name = 'sample_id'\n",
        "\n",
        "# --- 2. Parse metadata from SOFT file ---\n",
        "sample_ids = []\n",
        "ages = []\n",
        "sexes = []\n",
        "diseases = []\n",
        "\n",
        "with open('/content/GSE113957_family.soft.txt', 'r') as f:\n",
        "    current_id = None\n",
        "    current_age = None\n",
        "    current_sex = None\n",
        "    current_disease = None\n",
        "\n",
        "    for line in f:\n",
        "        line = line.strip()\n",
        "        if line.startswith(\"^SAMPLE\"):\n",
        "            if current_id:\n",
        "                sample_ids.append(current_id)\n",
        "                ages.append(current_age)\n",
        "                sexes.append(current_sex)\n",
        "                diseases.append(current_disease)\n",
        "            current_id = line.split(\" = \")[1]\n",
        "            current_age = None\n",
        "            current_sex = None\n",
        "            current_disease = None\n",
        "        elif line.startswith(\"!Sample_characteristics_ch1\"):\n",
        "            lower_line = line.lower()\n",
        "            if \"age\" in lower_line:\n",
        "                current_age = line.split(\":\")[-1].strip()\n",
        "            elif \"sex\" in lower_line:\n",
        "                current_sex = line.split(\":\")[-1].strip()\n",
        "            elif \"disease\" in lower_line or \"diagnosis\" in lower_line:\n",
        "                current_disease = line.split(\":\")[-1].strip()\n",
        "\n",
        "    # Don't forget the last sample\n",
        "    if current_id:\n",
        "        sample_ids.append(current_id)\n",
        "        ages.append(current_age)\n",
        "        sexes.append(current_sex)\n",
        "        diseases.append(current_disease)\n",
        "\n",
        "# --- 3. Build metadata DataFrame ---\n",
        "meta_df = pd.DataFrame({\n",
        "    \"sample_id\": sample_ids,\n",
        "    \"Age\": ages,\n",
        "    \"sex\": sexes,\n",
        "    \"disease\": diseases\n",
        "})\n",
        "\n",
        "# Convert age to numeric (some missing values might turn into NaN)\n",
        "meta_df[\"Age\"] = pd.to_numeric(meta_df[\"Age\"], errors='coerce')\n",
        "# Convert 'sex' to string before applying .str accessor\n",
        "meta_df[\"sex\"] = meta_df[\"sex\"].astype(str).str.capitalize()\n",
        "meta_df[\"disease\"] = meta_df[\"disease\"].astype(str).str.upper()\n",
        "\n",
        "# Normalize label case\n",
        "tpm.index = tpm.index.str.strip().str.upper()\n",
        "meta_df['sample_id'] = meta_df['sample_id'].str.strip().str.upper()\n",
        "\n",
        "# --- 4. Merge metadata with TPM ---\n",
        "merged = tpm.merge(meta_df, left_index=True, right_on='sample_id')\n",
        "\n",
        "# --- 5. Remove samples where disease == \"HGPS\" ---\n",
        "filtered = merged[merged[\"disease\"] != \"HGPS\"].set_index('sample_id')\n",
        "\n",
        "\n",
        "# ✅ Result: 'filtered' now contains merged TPM + metadata, excluding HGPS\n",
        "print(\"Merged and filtered shape:\", filtered.shape)\n",
        "print(filtered[[\"Age\", \"sex\", \"disease\"]].head())\n",
        "#print(\"TPM sample IDs:\", set(tpm.index[:5]))\n",
        "#print(\"Metadata sample IDs:\", set(meta_df['sample_id'].head()))\n",
        "\n",
        "# Save the cleaned merged dataset to CSV\n",
        "filtered.to_csv(\"/content/merged_TPM_with_metadata_filtered.csv\")"
      ]
    },
    {
      "cell_type": "code",
      "source": [
        "df = pd.read_csv(\"/content/merged_TPM_with_metadata_filtered.csv\")\n",
        "print(df.head())  # or df.sample(5)\n",
        "print(df.shape)"
      ],
      "metadata": {
        "colab": {
          "base_uri": "https://localhost:8080/"
        },
        "id": "O3Wlc4BQxaBk",
        "outputId": "72b26364-14a6-4a89-8ed2-58bd9937a78b"
      },
      "execution_count": null,
      "outputs": [
        {
          "output_type": "stream",
          "name": "stdout",
          "text": [
            "    sample_id  100287102  653635  102466751  107985730  100302278  645520  \\\n",
            "0  GSM3124560    0.59030   22.44      34.83        0.0        0.0  0.0000   \n",
            "1  GSM3124561    0.09679   19.34      16.46        0.0        0.0  0.0000   \n",
            "2  GSM3124562    0.83440   18.31      14.19        0.0        0.0  0.0000   \n",
            "3  GSM3124563    0.09767   14.23      14.24        0.0        0.0  0.0000   \n",
            "4  GSM3124564    0.24130   17.69      17.58        0.0        0.0  0.1764   \n",
            "\n",
            "   79501  100996442  729737  ...   4568    4540    4541    4556    4519  \\\n",
            "0    0.0     0.5693  1.3230  ...  667.1  3062.0  2172.0  1038.0  3468.0   \n",
            "1    0.0     1.3720  1.4900  ...  396.4  2958.0  2426.0  1191.0  3231.0   \n",
            "2    0.0     0.6197  1.2340  ...  380.5  3567.0  2802.0  1464.0  3982.0   \n",
            "3    0.0     0.5604  0.3242  ...  381.8  2215.0  1728.0   846.5  2202.0   \n",
            "4    0.0     1.3850  0.9466  ...  401.4  4153.0  3712.0  1745.0  4281.0   \n",
            "\n",
            "     4576   4571   age     sex  disease  \n",
            "0   97.09  284.8   1.0    Male   NORMAL  \n",
            "1   53.30  150.5  12.0    Male   NORMAL  \n",
            "2   29.24  103.4  24.0  Female   NORMAL  \n",
            "3  110.00  199.3  25.0    Male   NORMAL  \n",
            "4   84.55  216.9  25.0  Female   NORMAL  \n",
            "\n",
            "[5 rows x 39380 columns]\n",
            "(133, 39380)\n"
          ]
        }
      ]
    }
  ]
}